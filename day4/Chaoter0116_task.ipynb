{
 "cells": [
  {
   "cell_type": "markdown",
   "metadata": {
    "id": "BX7SgOeWu86I"
   },
   "source": [
    "안녕하세요. 수강생 여러분~! \n",
    "\n",
    "다시 돌아온 조금 더 성장할 기 ! 회 ! \n",
    "\n",
    "Chapter01 ~ 16의 수업 내용을 바탕으로 아래 문제를 풀어주시면 됩니다 !\n",
    "\n",
    "지금까지 잘 해오셨으니까, 총 복습한다고 생각하시고 한번 도전해보세요 !!!\n",
    "\n",
    "차근 차근 문제와 요구사항을 읽고 작성해보세요.\n",
    "\n",
    "<br>\n",
    "\n",
    "\n",
    "[**답변 입력 방법**]\n",
    "\n",
    "문제 아래에 있는 코드 입력창에 정답코드를 작성하신 후  __▷ 버튼을 클릭해 코드를 실행__ 해보세요<br>"
   ]
  },
  {
   "cell_type": "markdown",
   "metadata": {},
   "source": [
    "---"
   ]
  },
  {
   "cell_type": "markdown",
   "metadata": {},
   "source": [
    "#### 프로젝트: 붕어빵 자동 판매 시스템\n",
    "\n",
    "\n",
    "당신은 붕어빵 가게의 주인입니다. \n",
    "\n",
    "손님들이 붕어빵을 주문하면 이를 자동으로 처리하고, 재고를 관리하는 시스템을 만들고자 합니다. \n",
    "\n",
    "또한, 관리자 모드를 통해 재고를 추가할 수 있는 기능을 구현해야 합니다.\n"
   ]
  },
  {
   "cell_type": "markdown",
   "metadata": {},
   "source": [
    "__[문제 1: 붕어빵 재고 확인]__\n",
    "\n",
    "붕어빵 가게의 현재 재고를 확인하는 기능을 구현하세요.\n",
    "\n",
    "요구사항:\n",
    "- 현재 붕어빵의 재고를 딕셔너리로 관리합니다.\n",
    "- 딕셔너리에는 붕어빵의 종류와 각각의 재고 개수가 저장됩니다.\n",
    "- 현재 재고를 화면에 출력하세요.\n",
    "\n",
    "붕어빵 재고\n",
    "- 팥붕어빵 : 10개\n",
    "- 슈크림붕어빵 : 8개\n",
    "- 초코붕어빵 : 5개"
   ]
  },
  {
   "cell_type": "code",
   "execution_count": 2,
   "metadata": {},
   "outputs": [
    {
     "name": "stdout",
     "output_type": "stream",
     "text": [
      "{'팥붕어빵': 10, '슈크림붕어빵': 8, '초코붕어빵': 5}\n"
     ]
    }
   ],
   "source": [
    "붕어빵 = {\"팥붕어빵\" : 10, \"슈크림붕어빵\": 8, \"초코붕어빵\": 5}\n",
    "print(붕어빵)"
   ]
  },
  {
   "cell_type": "markdown",
   "metadata": {},
   "source": [
    "__[문제 2: 붕어빵 주문 받기]__\n",
    "\n",
    "손님이 주문한 붕어빵의 종류와 개수를 입력받는 기능을 구현하세요.\n",
    "\n",
    "요구사항:\n",
    "- 손님이 주문할 붕어빵의 종류와 개수를 입력받습니다.\n",
    "- 주문 내용을 딕셔너리에 저장하세요.\n",
    "- 주문 내역을 출력해주세요."
   ]
  },
  {
   "cell_type": "code",
   "execution_count": 12,
   "metadata": {},
   "outputs": [
    {
     "name": "stdout",
     "output_type": "stream",
     "text": [
      "주문 내역: {'10': 5}\n"
     ]
    }
   ],
   "source": [
    "order = {}\n",
    "bread_type = input(\"어떤 붕어빵을 드릴까요? (팥붕어빵, 슈크림붕어빵, 초코붕어빵): \")\n",
    "개수 = int(input(\"몇개드릴까요?: \"))\n",
    "order[bread_type] = 개수\n",
    "print(f\"주문 내역: {order}\")"
   ]
  },
  {
   "cell_type": "markdown",
   "metadata": {},
   "source": [
    "__[문제 3: 붕어빵 주문 처리]__\n",
    "\n",
    "손님의 주문을 처리하여 붕어빵 재고를 업데이트하는 기능을 구현하세요.\n",
    "\n",
    "요구사항:\n",
    "- 손님의 주문 내용을 기반으로 재고를 업데이트합니다.\n",
    "- 재고가 부족할 경우, 손님에게 재고 부족을 알리고 재고를 감소시키지 않습니다.\n",
    "- 재고가 충분할 경우, 주문한 만큼 재고를 감소시키고 판매를 완료합니다.\n",
    "- 판매가 완료된 경우 판매된 붕어빵 맛과 개수를 출력하세요."
   ]
  },
  {
   "cell_type": "code",
   "execution_count": 25,
   "metadata": {},
   "outputs": [
    {
     "name": "stdout",
     "output_type": "stream",
     "text": [
      "그런 붕어빵은 없는데요..\n",
      "주문 내역:  {'10붕어빵': 8}\n",
      "남은 재고:  {'팥붕어빵': 10, '슈크림붕어빵': 8, '초코붕어빵': 5}\n"
     ]
    }
   ],
   "source": [
    "주문내역 = {}\n",
    "order = input(\"어떤 붕어빵 드릴까요? (뒤에 붕어빵 생략)(팥/슈크림/초코)\")\n",
    "bread_type = order + \"붕어빵\"\n",
    "개수 = int(input(\"몇 개 드릴까요?\"))\n",
    "if bread_type not in 붕어빵:\n",
    "    print(\"그런 붕어빵은 없는데요..\")\n",
    "elif 붕어빵[bread_type] < 개수:\n",
    "    print(\"재고소진이 되어가지고 남은 것중에서 골라주세요\")\n",
    "else:\n",
    "    붕어빵[bread_type] -= 개수\n",
    "\n",
    "주문내역[bread_type] = 개수\n",
    "print(\"주문 내역: \", 주문내역)\n",
    "print(\"남은 재고: \", 붕어빵)"
   ]
  },
  {
   "cell_type": "markdown",
   "metadata": {},
   "source": [
    "__[문제 4: 여러 손님 주문 처리]__\n",
    "\n",
    "여러 손님들의 주문을 처리할 수 있도록 시스템을 확장하세요.\n",
    "\n",
    "요구사항:\n",
    "- 손님이 \"종료\"를 입력할 때까지 주문을 계속 받습니다.\n",
    "- 각 주문마다 재고를 업데이트합니다.\n",
    "- 현재 재고를 화면에 출력합니다."
   ]
  },
  {
   "cell_type": "code",
   "execution_count": null,
   "metadata": {},
   "outputs": [],
   "source": [
    "종주문내역 = {}\n",
    "판매내역 = {\"팥붕어빵\" : 0, \"슈크림붕어빵\" : 0, \"초코붕어빵\" : 0}\n",
    "while True:\n",
    "    주문 = input(\"어떤 붕어빵을 드릴까요?(팥붕어빵, 슈크림붕어빵 , 초코붕어빵):\")\n",
    "    if 주문 == \"종료\":\n",
    "        break\n",
    "    if bread_type not in 붕어빵:\n",
    "        print(\"붕어빵 없습니다..\")\n",
    "        continue\n",
    "    개수 = int(input(\"몇개드릴까요?\"))\n",
    "    if 붕어빵[bread_type] < 개수:\n",
    "        print(\"재고소진이 되어 남은 것 중에 골라주세요\")\n",
    "    else:\n",
    "        붕어빵[bread_type] -= 개수\n",
    "        if 주문 in 주문내역: \n",
    "            주문내역[주문] += 개수\n",
    "            판매내역[주문] += 개수\n",
    "        else:\n",
    "            주문내역[주문] = 개수\n",
    "            판매내역[주문] = 개수\n",
    "\n",
    "            print(\"주문내역: \", 주문내역)\n",
    "            print(\"남은재고: \", 붕어빵)\n",
    "            \n"
   ]
  },
  {
   "cell_type": "markdown",
   "metadata": {},
   "source": [
    "__[문제 5: 관리자 모드]__\n",
    "\n",
    "관리자 모드를 통해 붕어빵 재고를 추가할 수 있는 기능을 구현하세요.\n",
    "\n",
    "요구사항:\n",
    "- 관리자는 특정 붕어빵의 재고를 추가할 수 있습니다.\n",
    "- \"종료\"를 입력하면 관리자 모드를 종료합니다.\n",
    "- 추가된 재고를 업데이트하고 현재 재고를 화면에 출력합니다."
   ]
  },
  {
   "cell_type": "code",
   "execution_count": null,
   "metadata": {},
   "outputs": [],
   "source": [
    "while True:\n",
    "    bread_type = input(\"추가할 붕어빵 종류를 입력하세요: (잉어빵, 금붕어빵, 숭어빵)\")\n",
    "    if bread_type == \"종료\":\n",
    "        break\n",
    "    추가종류 = int(input(f\"{bread_type}의 추가할 개수를 입력하세요: \"))\n",
    "    주문[bread_type] += 추가종류\n",
    "    print(f\"{bread_type}의 재고가 {추가종류}개 추가되었습니다.\")\n",
    "    print(\"현재 붕어빵 재고:\")\n",
    "    for bread_type, 추가종류 in bread_type.items():\n",
    "        print(f\"{bread_type}: {추가종류}개\")"
   ]
  },
  {
   "cell_type": "markdown",
   "metadata": {},
   "source": [
    "__[문제 6: 매출 확인]__\n",
    "\n",
    "붕어빵 판매 가격을 설정하고, 판매한 붕어빵의 매출을 계산하세요.\n",
    "\n",
    "요구사항:\n",
    "- 각 붕어빵의 가격을 딕셔너리로 관리합니다.\n",
    "- 판매된 붕어빵의 종류와 개수를 딕셔너리로 관리합니다.\n",
    "- 총 매출을 계산하여 출력합니다.\n",
    "\n",
    "초기 설정:\n",
    "- 가격\n",
    "    - \"팥붕어빵\": 1000\n",
    "    - \"슈크림붕어빵\": 1200\n",
    "    - \"초코붕어빵\": 1500\n",
    "\n",
    "- 판매 개수\n",
    "    - \"팥붕어빵\": 0\n",
    "    - \"슈크림붕어빵\": 0\n",
    "    - \"초코붕어빵\": 0"
   ]
  },
  {
   "cell_type": "code",
   "execution_count": null,
   "metadata": {},
   "outputs": [],
   "source": [
    "#초기설정 #딕셔너리관리 #붕어빵판매 (수량 재고 판매수량 현재재고) #\n",
    "stock = {\"팥붕어빵\": 10, \"슈크림붕어빵\": 8, \"초코붕어빵\": 5}\n",
    "prices = {\"팥붕어빵\": 1000, \"슈크림붕어빵\": 1200, \"초코붕어빵\": 1500}\n",
    "sales = {\"팥붕어빵\": 0, \"슈크림붕어빵\": 0, \"초코붕어빵\": 0}\n",
    "\n",
    "while True:\n",
    "    mode = input(\"원하는 모드를 선택하세요 (주문, 관리자, 종료): \")\n",
    "\n",
    "    if mode == \"종료\":\n",
    "        break\n",
    "    if mode == \"관리자\":\n",
    "        break\n",
    "    추가재고 = int(input(f\"{bread_type}의 추가 할 개수를 입력하세요: \"))\n",
    "    stock[bread_type] += 추가재고\n",
    "    print(f\"{bread_type}의 재고가{추가재고}개 추가되었습니다.\")\n",
    "    print(\"현재 붕어빵 재고:\")\n",
    "    for 붕어빵, 개수 in #이어서 작업하겠습니다 ㅜㅠ\n",
    "    \n"
   ]
  }
 ],
 "metadata": {
  "colab": {
   "authorship_tag": "ABX9TyMLQjyUmELFyKkx1AyovOFZ",
   "provenance": []
  },
  "kernelspec": {
   "display_name": "Python 3",
   "name": "python3"
  },
  "language_info": {
   "codemirror_mode": {
    "name": "ipython",
    "version": 3
   },
   "file_extension": ".py",
   "mimetype": "text/x-python",
   "name": "python",
   "nbconvert_exporter": "python",
   "pygments_lexer": "ipython3",
   "version": "3.9.6"
  }
 },
 "nbformat": 4,
 "nbformat_minor": 0
}
