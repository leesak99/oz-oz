{
 "cells": [
  {
   "cell_type": "markdown",
   "metadata": {},
   "source": [
    "[문제]\n",
    "\n",
    "'Book' 클래스를 선언하세요. \n",
    "\n",
    "이 클래스는 title (제목)과 author (저자) 두 개의 속성을 갖습니다. \n",
    "\n",
    "__str__ 특수 메소드를 오버라이드하여, 객체를 문자열로 변환할 때 \"제목: [title], 저자: [author]\" 형식의 문자열을 반환하도록 하세요. \n",
    "\n",
    "'Book' 객체를 하나 생성하고, print 함수를 사용하여 해당 객체의 문자열 표현을 출력하세요."
   ]
  },
  {
   "cell_type": "markdown",
   "metadata": {},
   "source": []
  },
  {
   "cell_type": "code",
   "execution_count": 10,
   "metadata": {},
   "outputs": [
    {
     "name": "stdout",
     "output_type": "stream",
     "text": [
      "제목: 제목이구요, 저자 : 타이틀이라네 <class 'str'>\n"
     ]
    }
   ],
   "source": [
    "#클래스 선언하기 #제목과 저자 두개의 속성 \n",
    "# #str 특수메소드 오버라이드 , 객체를 문자열로 변활할때~~문자열로 반환\n",
    "# book 이란 객체하나 print 함수를 사용  #문자열로 표현 출력 \n",
    "\n",
    "class Book: #클래스를 북으로 선언\n",
    "    def __init__(self, title , author): #__init__을 사용해 제목과 저자 속성 두개 \n",
    "        self.title = title  #self. 제목과 저자를 \n",
    "        self.author = author\n",
    "    def __str__(self): #특수메소드 str 메쇼드 선언\n",
    "        return f\"제목: {self.title}, 저자 : {self.author}\" #f스트링을 이용해 문자열로 반환되도록\n",
    "book = Book(\"제목이구요\", \"타이틀이라네\")  #Book을 book에\n",
    "#출력 book 과 str\n",
    "print(book,str)"
   ]
  }
 ],
 "metadata": {
  "kernelspec": {
   "display_name": "Python 3",
   "language": "python",
   "name": "python3"
  },
  "language_info": {
   "codemirror_mode": {
    "name": "ipython",
    "version": 3
   },
   "file_extension": ".py",
   "mimetype": "text/x-python",
   "name": "python",
   "nbconvert_exporter": "python",
   "pygments_lexer": "ipython3",
   "version": "3.9.6"
  }
 },
 "nbformat": 4,
 "nbformat_minor": 2
}
