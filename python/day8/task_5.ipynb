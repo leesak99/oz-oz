{
 "cells": [
  {
   "cell_type": "markdown",
   "metadata": {},
   "source": [
    "[문제]\n",
    "\n",
    "'Account' 클래스를 작성하세요. \n",
    "\n",
    "이 클래스는 소유자(owner)와 잔액(balance)을 속성으로 가지며, 잔액은 프라이빗 변수로 선언합니다. \n",
    "\n",
    "'deposit'와 'withdraw' 두 개의 메소드를 통해 잔액을 조작할 수 있도록 하세요. \n",
    "\n",
    "이 때, 잔액은 음수가 될 수 없도록 체크해야 합니다. 'Account' 객체를 생성하고,<br>\n",
    "입금 및 출금 작업을 시뮬레이션한 후, 최종 잔액을 출력하세요."
   ]
  },
  {
   "cell_type": "code",
   "execution_count": 5,
   "metadata": {},
   "outputs": [
    {
     "name": "stdout",
     "output_type": "stream",
     "text": [
      "5000원을 입금하여, 현재잔액은15000원 입니다.\n",
      "8000원을 출금하여, 현재잔액은7000원 입니다.\n",
      "현재잔액은7000 입니다.\n"
     ]
    }
   ],
   "source": [
    "#account 클랙스 정의 #소유자와 잔액 두개 #잔액은 프라이빗 변수로 선언 #디퍼싯 윗드뤄 두개 매소드를 통해 조작가능\n",
    "#잔액은 음수가 될수 없도록 체크 #account 객체를 생성하고 입금 및 출금 시뮬레이션 #최종 잔액 출력(프리이빗 변수선언)\n",
    "\n",
    "class Account:#클래스 선언\n",
    "    def __init__(self, owner, balance):  #두개의 변수\n",
    "        self.owner = owner  \n",
    "        self.balance = balance\n",
    "    def deposit(self, amount):  #2개의 매소드 선언과 잔액 조작하기\n",
    "        if amount > 0 :  #amount가 0보다 작을시 잔액은 음수가 나올 수 없게\n",
    "            self.balance += amount   #현재금액\n",
    "            print(f'{amount}원을 입금하여, 현재잔액은{self.balance}원 입니다.')\n",
    "        else:\n",
    "            print('입금에 실패했습니다.')\n",
    "          #입금 및 출금 작업 시뮬레이션 \n",
    "    def withdraw(self, amount): #withdraw 메소드\n",
    "        if  0 <= amount <= self.balance:  #amount가 0 이상이고 balance보다 작거나 같으므로 조건이 참\n",
    "            self.balance -= amount #현재 잔액에서 amount를 뺀고 남은 값 현재잔액\n",
    "            print(f'{amount}원을 출금하여, 현재잔액은{self.balance}원 입니다.')\n",
    "        else:\n",
    "            print('출금에 실패했습니다.')\n",
    "    def get_balance(self): #최종잔액 출력 get_balance라는변수\n",
    "        return self.balance  #반환되는 self.balance\n",
    "        \n",
    "account = Account(\"가져가\", 10000)  #Account를 acoount에 할당하게 한후 account 값과 현재잔액을 설정\n",
    "account.deposit(5000)   #account deposit,sithdraw 값 지정\n",
    "account.withdraw(8000)\n",
    "print(f'현재잔액은{account.get_balance()} 입니다.') #값 출력하기\n",
    "        "
   ]
  }
 ],
 "metadata": {
  "kernelspec": {
   "display_name": "Python 3",
   "language": "python",
   "name": "python3"
  },
  "language_info": {
   "codemirror_mode": {
    "name": "ipython",
    "version": 3
   },
   "file_extension": ".py",
   "mimetype": "text/x-python",
   "name": "python",
   "nbconvert_exporter": "python",
   "pygments_lexer": "ipython3",
   "version": "3.9.6"
  }
 },
 "nbformat": 4,
 "nbformat_minor": 2
}
