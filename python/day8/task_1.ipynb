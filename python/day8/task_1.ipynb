{
 "cells": [
  {
   "cell_type": "markdown",
   "metadata": {},
   "source": [
    "[문제]\n",
    "\n",
    "'Person'이라는 클래스를 선언하세요. 이 클래스는 name (이름)과 age (나이) 두 개의 속성을 갖습니다.<br>\n",
    "\n",
    "그리고 'greet'라는 메소드를 갖고 있으며, 이 메소드는 \"안녕하세요, 제 이름은 [name]입니다. \n",
    "\n",
    "나이는 [age]살입니다.\"라는 메시지를 반환합니다.<br>\n",
    "이 클래스를 사용하여 '홍길동'이라는 이름과 20살의 나이를 가진 'Person' 객체를 생성하고, 'greet' 메소드를 호출하여 메시지를 출력하세요."
   ]
  },
  {
   "cell_type": "markdown",
   "metadata": {},
   "source": []
  },
  {
   "cell_type": "code",
   "execution_count": 11,
   "metadata": {},
   "outputs": [
    {
     "name": "stdout",
     "output_type": "stream",
     "text": [
      "안녕하세요 제이름은('홍길동',)입니다. 나이는20입니다.\n"
     ]
    }
   ],
   "source": [
    "#클래스 선언하기 #두개의 속성만들기 #great이라는 매소드에 \"\" 넣기 # 나이age 메세지 반환\n",
    "#객체를 생성하고 메소드 호출 - 메세지 출력\n",
    "class Person: #클래스 선언하기\n",
    "    def __init__(self, name, age): #이름나이 속성 두개\n",
    "        self.name = name,  \n",
    "        self.age = age\n",
    "    def greet(self): #greet 이라는 메소드\n",
    "        return (f\"안녕하세요 제이름은{self.name}입니다. 나이는{self.age}입니다.\")   \n",
    "    #greet 메소드변수 반환하기\n",
    "    \n",
    "#데이터 입력 #\n",
    "person = Person(\"홍길동\",20) #person 에 Person 을 할댱하게하고 Person 값을 출력\n",
    "print(person.greet())   #person 과 greet 출력하기"
   ]
  }
 ],
 "metadata": {
  "kernelspec": {
   "display_name": "Python 3",
   "language": "python",
   "name": "python3"
  },
  "language_info": {
   "codemirror_mode": {
    "name": "ipython",
    "version": 3
   },
   "file_extension": ".py",
   "mimetype": "text/x-python",
   "name": "python",
   "nbconvert_exporter": "python",
   "pygments_lexer": "ipython3",
   "version": "3.9.6"
  }
 },
 "nbformat": 4,
 "nbformat_minor": 2
}
