{
 "cells": [
  {
   "cell_type": "markdown",
   "metadata": {},
   "source": [
    "[문제] \n",
    "\n",
    "'Employee' 클래스를 선언하세요. \n",
    "\n",
    "이 클래스는 월급인상률을 의미하는 클래스 변수로 'raise_amount'를 갖고 있으며, 기본값은 1.04입니다. 다음 급여는 기본 급여에 월급인상률을 곱한 값으로 결정합니다.\n",
    "\n",
    "또한, 각 직원의 이름(name)과 급여(salary)를 속성으로 가지며, 'apply_raise' 메소드를 통해 급여에 'raise_amount'를 적용할 수 있어야 합니다.\n",
    "\n",
    "'Employee' 클래스의 객체 두 개를 생성하고, 한 객체에만 'raise_amount'를 변경한 후, 두 객체의 급여를 증가시켜보세요.<br>\n",
    "그리고 각 객체의 새로운 급여를 출력하세요."
   ]
  },
  {
   "cell_type": "code",
   "execution_count": 3,
   "metadata": {},
   "outputs": [
    {
     "name": "stdout",
     "output_type": "stream",
     "text": [
      "11500\n",
      "8750\n"
     ]
    }
   ],
   "source": [
    "#클래스 선언 #월급인샹률을 의미하는 클래스변수'raise_amount - 1.04 # 다음금여 기본금여(1.04) * 월급인상률(raise_amount)\n",
    "#직원의 이름금여 속성 2개  # apply_raise 메소드  급여에 raise_amount (return)적용\n",
    "raise_amount = 1.04 #raise_amount 설정\n",
    "class Employee: #클래스 선언 \n",
    "    def __init__(self, name, salary):# init으로 두개객체 생성 및 name salary\n",
    "        self.name = name\n",
    "        self.salary = salary\n",
    "    #급여 인상 매서드 정의\n",
    "    def apply_raise(self):  #apply_raise 메소드\n",
    "        self.salary = int(self.salary * self.raise_amount)#인상값은 기본급여 * 월급 인상률\n",
    "         #소수점 이하를 버리기 위해서 int를 사용하기\n",
    "#Employee 클래스스 둘 중 한객체에만 raise_amount 변경하기\n",
    "#두 객체의 급여를 증가시키기 # 객체의 새로운 급여 출력하기\n",
    "emp1 = Employee(\"나는\", 10000) #두개의 객체 행성 직원 두명 생성 나는의 급여 만원 토스트는 5천원\n",
    "emp2 = Employee(\"토스트\", 5000) #급여 적용하기\n",
    "\n",
    "Employee.raise_amount = 1.15 #raise amount 값을 1.15로 변경해서 인상 1.15배로 변경\n",
    "emp1.apply_raise()\n",
    "Employee.raise_amount = 1.75 #인상된 값\n",
    "emp2.apply_raise()\n",
    "print(emp1.salary) #급여 출력하기\n",
    "print(emp2.salary)\n",
    "    \n"
   ]
  },
  {
   "cell_type": "markdown",
   "metadata": {},
   "source": []
  },
  {
   "cell_type": "markdown",
   "metadata": {},
   "source": []
  }
 ],
 "metadata": {
  "kernelspec": {
   "display_name": "Python 3",
   "language": "python",
   "name": "python3"
  },
  "language_info": {
   "codemirror_mode": {
    "name": "ipython",
    "version": 3
   },
   "file_extension": ".py",
   "mimetype": "text/x-python",
   "name": "python",
   "nbconvert_exporter": "python",
   "pygments_lexer": "ipython3",
   "version": "3.9.6"
  }
 },
 "nbformat": 4,
 "nbformat_minor": 2
}
