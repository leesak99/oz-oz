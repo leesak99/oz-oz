{
 "cells": [
  {
   "cell_type": "markdown",
   "metadata": {},
   "source": [
    "사용자로부터 여러 개의 숫자를 입력받아 리스트에 저장한 후, 사용자가 'done'이라고 입력할 때까지 계속 입력받으세요. \n",
    "\n",
    "- 입력 중 숫자가 아닌 값이 입력되면 ValueError를 처리\n",
    "- 숫자 외 값이 입력된 경우 어떤 값이 잘못 입력되었는지 사용자에게 알려주는 문구 출력<br>\n",
    "  (예: f\"잘못된 값: {변수}. 숫자를 입력해주세요.\")\n",
    "\n"
   ]
  },
  {
   "cell_type": "code",
   "execution_count": 1,
   "metadata": {},
   "outputs": [],
   "source": [
    "#여러개의 숫자 #리스트 저장 # 사용자가 'done' 입력할때 까지 입력받기 \n",
    "user = [] #빈 리스트 생성\n",
    "while True:     #무한루프 시작\n",
    "    try:    #\n",
    "        line = input(\"여러개의 숫자를 입력하세요('done'이면 종료)\") #사용자로 부터 입력받기\n",
    "        if line == 'done':    \n",
    "            break #루프종료하기\n",
    "        user.append(int(line))               #입력된 값을 정수로 변환해서 리스트에 추가하기\n",
    "    except ValueError: #정수에 없는 값을 이용했을 경우\n",
    "        print(f\"잘못된 값: {line}, 숫자를 입력해주세요\")"
   ]
  },
  {
   "cell_type": "markdown",
   "metadata": {},
   "source": []
  }
 ],
 "metadata": {
  "kernelspec": {
   "display_name": "Python 3",
   "language": "python",
   "name": "python3"
  },
  "language_info": {
   "codemirror_mode": {
    "name": "ipython",
    "version": 3
   },
   "file_extension": ".py",
   "mimetype": "text/x-python",
   "name": "python",
   "nbconvert_exporter": "python",
   "pygments_lexer": "ipython3",
   "version": "3.9.6"
  }
 },
 "nbformat": 4,
 "nbformat_minor": 2
}
