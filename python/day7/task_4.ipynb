{
 "cells": [
  {
   "cell_type": "markdown",
   "metadata": {},
   "source": [
    "사용자 정의 예외 NegativeNumberError를 생성하고, 사용자로부터 숫자를 입력받아 음수일 경우 NegativeNumberError를 발생시키는 프로그램을 작성하세요. \n",
    "\n",
    "- 예외 처리 구문을 사용하여 음수 입력 시 \"양수를 입력해주세요.\"라는 메시지를 출력"
   ]
  },
  {
   "cell_type": "code",
   "execution_count": null,
   "metadata": {},
   "outputs": [],
   "source": [
    "#사용자 정의 예외 예외 생성 # 사용자로부터 숫자 입력받기 #음수일경우 negative 발생시키는 프로그램\n",
    "class NegativeNumberError: #예외 nega 생성\n",
    "        pass   \n",
    "def positive_number():  #possitive_number 이라는 함수를 정의\n",
    "    while True:  \n",
    "        try:\n",
    "            number = int(input(\"양수를 입력해주세요.\")) # 양수를 입력해주세요 메세지 출력\n",
    "            if number < 0:   #number 라는 변수가 0보다 숫자가 작을시 (음수일떄)\n",
    "                raise NegativeNumberError #(강제종료)negative라는 예외를 발생\n",
    "            return number # 변수를 반환하고\n",
    "        except NegativeNumberError :#음수입력시에\n",
    "            print(\"양수를 입력해주세요.\")  #출력하기\n",
    "positive_number()"
   ]
  }
 ],
 "metadata": {
  "kernelspec": {
   "display_name": "Python 3",
   "language": "python",
   "name": "python3"
  },
  "language_info": {
   "codemirror_mode": {
    "name": "ipython",
    "version": 3
   },
   "file_extension": ".py",
   "mimetype": "text/x-python",
   "name": "python",
   "nbconvert_exporter": "python",
   "pygments_lexer": "ipython3",
   "version": "3.9.6"
  }
 },
 "nbformat": 4,
 "nbformat_minor": 2
}
