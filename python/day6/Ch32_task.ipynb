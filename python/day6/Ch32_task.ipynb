{
 "cells": [
  {
   "cell_type": "markdown",
   "metadata": {},
   "source": [
    "두 문자열을 받아서 긴 문자열을 반환하는 함수 longer_string을 작성하세요. 만약 두 문자열의 길이가 같다면, 첫 번째 문자열을 반환하세요."
   ]
  },
  {
   "cell_type": "markdown",
   "metadata": {},
   "source": []
  },
  {
   "cell_type": "code",
   "execution_count": 2,
   "metadata": {},
   "outputs": [
    {
     "data": {
      "text/plain": [
       "'천재?'"
      ]
     },
     "execution_count": 2,
     "metadata": {},
     "output_type": "execute_result"
    }
   ],
   "source": [
    "#두문자 -> 반환하는 함수 #두문자 길이 = 첫번째 문자열로 반환\n",
    "def long_string(str1, str2):\n",
    "    if len(str1) >= len(str2):\n",
    "        return str1\n",
    "    else:\n",
    "        return str2\n",
    "\n",
    "long_string('야', '천재?')\n",
    "    \n",
    "    #두문자열의 길이가 같다면 첫번째 문자열로 반환이 되어야 하는데\n",
    "    #두 문자열의 길이가 같아서 return을 받아서 다시 올라가서 값이 \n",
    "    #내려오게 되면 \"야\" 가 나와야 된다는게 제 생각입니다\n",
    "    #  왜 \"천재\"가 나오는지 이해가 잘 안가요 피드백 받아야 될 것 같아요\n",
    "    #(if 문 구조랑 return 강의 다시 돌려보겠습니다.)\n",
    "    "
   ]
  }
 ],
 "metadata": {
  "kernelspec": {
   "display_name": "Python 3",
   "language": "python",
   "name": "python3"
  },
  "language_info": {
   "codemirror_mode": {
    "name": "ipython",
    "version": 3
   },
   "file_extension": ".py",
   "mimetype": "text/x-python",
   "name": "python",
   "nbconvert_exporter": "python",
   "pygments_lexer": "ipython3",
   "version": "3.9.6"
  }
 },
 "nbformat": 4,
 "nbformat_minor": 2
}
