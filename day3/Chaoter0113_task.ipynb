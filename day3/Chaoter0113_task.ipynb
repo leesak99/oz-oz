{
 "cells": [
  {
   "cell_type": "markdown",
   "metadata": {
    "id": "fD4Qab2qYgOm"
   },
   "source": [
    "안녕하세요. 수강생 여러분~! \n",
    "\n",
    "Chapter01 ~ 13의 수업 내용을 바탕으로 아래 문제를 풀어주시면 됩니다 !\n",
    "\n",
    "지금까지 잘 해오셨으니까, 총 복습한다고 생각하시고 한번 도전해보세요 !!!\n",
    "\n",
    "\n",
    "<br>\n",
    "\n",
    "\n",
    "[**답변 입력 방법**]\n",
    "\n",
    "문제 아래에 있는 코드 입력창에 정답코드를 작성하신 후  __▷ 버튼을 클릭해 코드를 실행__ 해보세요<br>"
   ]
  },
  {
   "cell_type": "markdown",
   "metadata": {},
   "source": [
    "---"
   ]
  },
  {
   "cell_type": "markdown",
   "metadata": {},
   "source": [
    "### 프로젝트: 간단한 ATM 관리 시스템\n",
    "<br>\n",
    "\n",
    "__[문제 1: 잔액 확인]__\n",
    "\n",
    "현재 잔액은 1000원입니다. 현재 잔액을 출력하세요. \n",
    "\n",
    "(변수명 예시 : 잔액 - balance)"
   ]
  },
  {
   "cell_type": "code",
   "execution_count": 12,
   "metadata": {},
   "outputs": [
    {
     "name": "stdout",
     "output_type": "stream",
     "text": [
      "1000\n"
     ]
    }
   ],
   "source": [
    "balance = 1000\n",
    "print(balance)"
   ]
  },
  {
   "cell_type": "code",
   "execution_count": 3,
   "metadata": {},
   "outputs": [
    {
     "name": "stdout",
     "output_type": "stream",
     "text": [
      "(현재 잔액은 1000원 입니다.)\n"
     ]
    }
   ],
   "source": [
    "balance = 1000 #현재잔액\n",
    "print(f'(현재 잔액은 {balance}원 입니다.)') #출력하기"
   ]
  },
  {
   "cell_type": "markdown",
   "metadata": {},
   "source": [
    "__[문제 2: 입금]__\n",
    "\n",
    "가지고 있는 돈을 입금합니다.\n",
    "\n",
    "입금 금액을 입력받고, 잔액을 갱신한 후 새로운 잔액을 출력하세요. 입금 거래를 영수증 리스트에 기록하세요.\n",
    "\n",
    "- 입금 금액은 input()을 이용해 받습니다.\n",
    "- 영수증은 list()로 선언합니다.\n",
    "- 영수증에 들어가는 정보는 튜플 형태입니다.\n",
    "- 튜플에 담기는 정보는 (입금 or 출금, 입금 or 출금 금액, 현재 잔액)순 입니다.\n",
    "\n",
    "(변수명 예시: 영수증 리스트 - receipts, 입금 금액 - deposit_amount)\n"
   ]
  },
  {
   "cell_type": "code",
   "execution_count": 2,
   "metadata": {},
   "outputs": [
    {
     "name": "stdout",
     "output_type": "stream",
     "text": [
      "1000\n",
      "[]\n",
      "('입금', 1000, 1000)\n"
     ]
    }
   ],
   "source": [
    "deposit_amount = int(input(\"입금 금액\"))\n",
    "receipts = []\n",
    "print(deposit_amount)\n",
    "print(receipts)\n",
    "type(deposit_amount)\n",
    "balance = (1000)\n",
    "print((\"입금\" ,deposit_amount ,balance,))\n",
    "balance = balance + deposit_amount"
   ]
  },
  {
   "cell_type": "code",
   "execution_count": 4,
   "metadata": {},
   "outputs": [
    {
     "name": "stdout",
     "output_type": "stream",
     "text": [
      "입금완료. 현재 잔액은 1000원 입니다.\n",
      "영수증: ('입금', 20000, 1000)\n"
     ]
    }
   ],
   "source": [
    "#입금 금액/ 잔액 갱신 / 새로운 잔액 /입극 거래 영수증 리스트\n",
    "receipt = [] #영수증 리스트\n",
    "deposit_amount =int(input(\"입금 금액: \")) # 입금금액\n",
    "balance + deposit_amount #잔액 갱신\n",
    "receipt.append((\"입금\", deposit_amount, balance)) # d영수증 기록\n",
    "\n",
    "print(f'입금완료. 현재 잔액은 {balance}원 입니다.')\n",
    "print(\"영수증:\", receipt [-1])\n"
   ]
  },
  {
   "cell_type": "markdown",
   "metadata": {},
   "source": [
    "__[문제 3: 출금]__\n",
    "\n",
    "사용자가 돈을 출금합니다. 출금 금액을 입력받고, 잔액을 갱신한 후 새로운 잔액을 출력하세요. 출금 거래를 영수증 리스트에 기록하세요. \n",
    "\n",
    "- 출금 금액은 input()을 이용해 받습니다.\n",
    "- 현재 잔액보다 출금 요청 금액이 많을 경우 현재 잔액 만큼만 출금되도록 합니다.\n",
    "- 영수증에 들어가는 정보는 튜플 형태입니다.\n",
    "- 튜플에 담기는 정보는 (입금 or 출금, 입금 or 출금 금액, 현재 잔액)순 입니다.\n",
    "\n",
    "(변수명 예시: 출금금액 - withdraw_amount)"
   ]
  },
  {
   "cell_type": "code",
   "execution_count": null,
   "metadata": {},
   "outputs": [],
   "source": [
    "#출금금액을  # 잔액을 갱신 후 새로운 잔액 출력 # 출금 거래를 영수증 리스트에 기록\n",
    "#출금금액 input()으로 - 현재잔애보다 출금요청이 많은경우 -현재잔액만큼만 출금되게 - 영수증 정보는 튜플형태 - 튜플에 담기는 정보는 (출금,출금금액,현자잔액순)\n",
    "\n",
    "withdraw_amount = int(input(\"출금금액\"))  #출금금액\n",
    "if  withdraw_amount > balance: #현재잔액보다 출금금액이 많을경우\n",
    "    print (\"요청한 금액이 현재 잔액보다 많습니다. 현재잔액 {balance}원만 출금 합니다.\") \n",
    "    withdraw_amount = balance   #현재금액과 출금금액이 같다면 출금할 금액에서 현재 잔액만큼 출금\n",
    "balance -= withdraw_amount    # 현재 잔액만출력하기\n",
    "receipts.append((\"출금\", withdraw_amount, balance)) #영수증 기록 / 튜플에 담기는 정보\n",
    "   \n",
    "print(f'출금완료, 현재잔액은 {balance}원입니다.')\n",
    "print(\"영수증 : \", receipts[-1])"
   ]
  },
  {
   "cell_type": "code",
   "execution_count": null,
   "metadata": {},
   "outputs": [],
   "source": [
    "#출금 > #출금 금액 입력 > #잔액 갱신 후 새로운 잔액 > #출금 거래를 영수증 리스트\n",
    "withdraw_amount = int(input(\"출금 금액\")) #출금 금액 입력\n",
    "if withdraw_amount > balance: #출금 요청 금액이 많다.\n",
    "    balance -= withdraw_amount #새로운 잔액\n",
    "    receipt.append((\"출금, withdraw_amount, balance\")) #영수증 기록\n",
    "    print(\"영수증:\",receipt[-1])\n",
    "    print(f\"요청 금액이 출금요청 금액보다 많습니다. 현재 잔액 {balance}원만 출금합니다.\")\n"
   ]
  },
  {
   "cell_type": "markdown",
   "metadata": {},
   "source": [
    "__[문제 4: 모든 거래 내역 확인]__\n",
    "\n",
    "모든 거래 내역(영수증)을 요청받았을 때 출력하세요.\n",
    "- 지금까지 영수증에 추가된 정보를 출력합니다.\n",
    "- 출력 형태는 자유입니다."
   ]
  },
  {
   "cell_type": "code",
   "execution_count": null,
   "metadata": {},
   "outputs": [],
   "source": [
    "#영수증 요청받았을 떄 출력 #추가된 정보 출력 \n",
    "receipts = ()\n",
    "\n",
    "\n",
    "print(\"영수증 내역\")\n"
   ]
  },
  {
   "cell_type": "code",
   "execution_count": 2,
   "metadata": {},
   "outputs": [],
   "source": [
    "#영수증을 요청받는다.\n",
    "#영수증리스트를 가져온다\n",
    "#출력한다\n",
    "receipts=('출금',3000,5000)\n",
    "while True:\n",
    "    num=input('영수증을 출력하시겠습니까? 1.예 2.종료') #영수증 요청을 받는다\n",
    "    if num == '2': #입력한 숫자가 2면 종료한다\n",
    "        break\n",
    "    if num == '1': #입력한 숫자가 1이면 \n",
    "        for i in receipts: #영수증 내역을 출력한다\n",
    "            print(i,end='')"
   ]
  },
  {
   "cell_type": "code",
   "execution_count": null,
   "metadata": {},
   "outputs": [],
   "source": [
    "balance = 1000#print(1000)\n",
    "# 초기 잔액과 영수증 리스트 선언\n",
    "balance = 1000  # 현재 잔액\n",
    "receipts = []  # 영수증 리스트\n",
    "# 입금 처리\n",
    "deposit_amount = int(input())  # 입금 금액 입력\n",
    "balance += deposit_amount  # 잔액 갱신\n",
    "# 영수증에 기록\n",
    "receipts.append((f'입금금액: {deposit_amount}원 입금하셔서 {balance}원 되었습니다'))\n",
    "#print(receipts)\n",
    "withdraw_amount = int(input())  # 출금 금액 입력\n",
    "if withdraw_amount > balance:   # 출금금액이 현재잔액보다 많을경우:\n",
    "    withdraw_amount = balance  # 잔액만큼 출금  #if 문이라 코드블럭 4칸 띄워주기\n",
    "balance -= withdraw_amount  # 잔액 갱신 balance = balance - withdraw_amount\n",
    "# 영수증에 기록\n",
    "receipts.append(f'출금금액: {withdraw_amount}원 출금하셔서 {balance}원 되었습니다')\n",
    "# 영수증 내역 출력\n",
    "print(\"영수증 내역:\")\n",
    "for record in receipts:     # for문 이용 receipts 값을 순차적으로 record에 넣어줌\n",
    "    print(record)              "
   ]
  }
 ],
 "metadata": {
  "colab": {
   "authorship_tag": "ABX9TyOA/CeX7CUdbTKFxV0fsocV",
   "provenance": []
  },
  "kernelspec": {
   "display_name": "Python 3",
   "name": "python3"
  },
  "language_info": {
   "codemirror_mode": {
    "name": "ipython",
    "version": 3
   },
   "file_extension": ".py",
   "mimetype": "text/x-python",
   "name": "python",
   "nbconvert_exporter": "python",
   "pygments_lexer": "ipython3",
   "version": "3.9.6"
  }
 },
 "nbformat": 4,
 "nbformat_minor": 0
}
